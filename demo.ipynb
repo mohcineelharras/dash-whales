{
  "cells": [
    {
      "attachments": {},
      "cell_type": "markdown",
      "metadata": {
        "id": "V2VIk93PRBkI"
      },
      "source": [
        "[![Open In Colab](https://colab.research.google.com/assets/colab-badge.svg)](https://colab.research.google.com/drive/1oXrz0IL9rZwnwHijHWcXQcARkSyUPL_x)\n"
      ]
    },
    {
      "attachments": {},
      "cell_type": "markdown",
      "metadata": {
        "id": "x9vu7yctRBkK"
      },
      "source": [
        "# dash-whales\n",
        "\n",
        "**To run on Colab use the code below** :\n",
        "```\n",
        "git clone https://github.com/mohcineelharras/dash-whales\n",
        "cd dash-whales\n",
        "```\n",
        "\n",
        "# Install necessary libraries\n",
        "```\n",
        "!pip install -r requirements.txt\n",
        "!pip install dash\n",
        "!pip install jupyter_dash\n",
        "!pip install dash_bootstrap_components\n",
        "!pip install ngrok\n",
        "```\n"
      ]
    },
    {
      "cell_type": "code",
      "execution_count": 18,
      "metadata": {
        "colab": {
          "base_uri": "https://localhost:8080/"
        },
        "id": "_Tuwd0sVTPsl",
        "outputId": "7399aa3b-6a51-4da8-c652-01be824b2a44"
      },
      "outputs": [
        {
          "name": "stdout",
          "output_type": "stream",
          "text": [
            "Cloning into 'dash-whales'...\n",
            "remote: Enumerating objects: 44, done.\u001b[K\n",
            "remote: Counting objects:   2% (1/44)\u001b[K\rremote: Counting objects:   4% (2/44)\u001b[K\rremote: Counting objects:   6% (3/44)\u001b[K\rremote: Counting objects:   9% (4/44)\u001b[K\rremote: Counting objects:  11% (5/44)\u001b[K\rremote: Counting objects:  13% (6/44)\u001b[K\rremote: Counting objects:  15% (7/44)\u001b[K\rremote: Counting objects:  18% (8/44)\u001b[K\rremote: Counting objects:  20% (9/44)\u001b[K\rremote: Counting objects:  22% (10/44)\u001b[K\rremote: Counting objects:  25% (11/44)\u001b[K\rremote: Counting objects:  27% (12/44)\u001b[K\rremote: Counting objects:  29% (13/44)\u001b[K\rremote: Counting objects:  31% (14/44)\u001b[K\rremote: Counting objects:  34% (15/44)\u001b[K\rremote: Counting objects:  36% (16/44)\u001b[K\rremote: Counting objects:  38% (17/44)\u001b[K\rremote: Counting objects:  40% (18/44)\u001b[K\rremote: Counting objects:  43% (19/44)\u001b[K\rremote: Counting objects:  45% (20/44)\u001b[K\rremote: Counting objects:  47% (21/44)\u001b[K\rremote: Counting objects:  50% (22/44)\u001b[K\rremote: Counting objects:  52% (23/44)\u001b[K\rremote: Counting objects:  54% (24/44)\u001b[K\rremote: Counting objects:  56% (25/44)\u001b[K\rremote: Counting objects:  59% (26/44)\u001b[K\rremote: Counting objects:  61% (27/44)\u001b[K\rremote: Counting objects:  63% (28/44)\u001b[K\rremote: Counting objects:  65% (29/44)\u001b[K\rremote: Counting objects:  68% (30/44)\u001b[K\rremote: Counting objects:  70% (31/44)\u001b[K\rremote: Counting objects:  72% (32/44)\u001b[K\rremote: Counting objects:  75% (33/44)\u001b[K\rremote: Counting objects:  77% (34/44)\u001b[K\rremote: Counting objects:  79% (35/44)\u001b[K\rremote: Counting objects:  81% (36/44)\u001b[K\rremote: Counting objects:  84% (37/44)\u001b[K\rremote: Counting objects:  86% (38/44)\u001b[K\rremote: Counting objects:  88% (39/44)\u001b[K\rremote: Counting objects:  90% (40/44)\u001b[K\rremote: Counting objects:  93% (41/44)\u001b[K\rremote: Counting objects:  95% (42/44)\u001b[K\rremote: Counting objects:  97% (43/44)\u001b[K\rremote: Counting objects: 100% (44/44)\u001b[K\rremote: Counting objects: 100% (44/44), done.\u001b[K\n",
            "remote: Compressing objects: 100% (35/35), done.\u001b[K\n",
            "remote: Total 44 (delta 17), reused 34 (delta 9), pack-reused 0\u001b[K\n",
            "Unpacking objects: 100% (44/44), 3.38 MiB | 7.03 MiB/s, done.\n",
            "/content/dash-whales/dash-whales\n"
          ]
        }
      ],
      "source": [
        "!git clone https://github.com/mohcineelharras/dash-whales\n",
        "%cd \"dash-whales\""
      ]
    },
    {
      "cell_type": "code",
      "execution_count": 19,
      "metadata": {
        "colab": {
          "base_uri": "https://localhost:8080/"
        },
        "id": "wdAV5TU9TP0f",
        "outputId": "ec6203d8-820f-4aaf-f8fd-64a3662fc435"
      },
      "outputs": [
        {
          "name": "stdout",
          "output_type": "stream",
          "text": [
            "Looking in indexes: https://pypi.org/simple, https://us-python.pkg.dev/colab-wheels/public/simple/\n",
            "Requirement already satisfied: beautifulsoup4 in /usr/local/lib/python3.10/dist-packages (from -r requirements.txt (line 1)) (4.11.2)\n",
            "Requirement already satisfied: pandas in /usr/local/lib/python3.10/dist-packages (from -r requirements.txt (line 2)) (1.5.3)\n",
            "Requirement already satisfied: numpy in /usr/local/lib/python3.10/dist-packages (from -r requirements.txt (line 3)) (1.22.4)\n",
            "Requirement already satisfied: requests in /usr/local/lib/python3.10/dist-packages (from -r requirements.txt (line 4)) (2.27.1)\n",
            "Requirement already satisfied: lxml in /usr/local/lib/python3.10/dist-packages (from -r requirements.txt (line 5)) (4.9.2)\n",
            "Requirement already satisfied: dash_bootstrap_components in /usr/local/lib/python3.10/dist-packages (from -r requirements.txt (line 6)) (1.4.1)\n",
            "Requirement already satisfied: dash in /usr/local/lib/python3.10/dist-packages (from -r requirements.txt (line 7)) (2.9.3)\n",
            "Requirement already satisfied: soupsieve>1.2 in /usr/local/lib/python3.10/dist-packages (from beautifulsoup4->-r requirements.txt (line 1)) (2.4.1)\n",
            "Requirement already satisfied: python-dateutil>=2.8.1 in /usr/local/lib/python3.10/dist-packages (from pandas->-r requirements.txt (line 2)) (2.8.2)\n",
            "Requirement already satisfied: pytz>=2020.1 in /usr/local/lib/python3.10/dist-packages (from pandas->-r requirements.txt (line 2)) (2022.7.1)\n",
            "Requirement already satisfied: urllib3<1.27,>=1.21.1 in /usr/local/lib/python3.10/dist-packages (from requests->-r requirements.txt (line 4)) (1.26.15)\n",
            "Requirement already satisfied: certifi>=2017.4.17 in /usr/local/lib/python3.10/dist-packages (from requests->-r requirements.txt (line 4)) (2022.12.7)\n",
            "Requirement already satisfied: charset-normalizer~=2.0.0 in /usr/local/lib/python3.10/dist-packages (from requests->-r requirements.txt (line 4)) (2.0.12)\n",
            "Requirement already satisfied: idna<4,>=2.5 in /usr/local/lib/python3.10/dist-packages (from requests->-r requirements.txt (line 4)) (3.4)\n",
            "Requirement already satisfied: Flask>=1.0.4 in /usr/local/lib/python3.10/dist-packages (from dash->-r requirements.txt (line 7)) (2.2.4)\n",
            "Requirement already satisfied: plotly>=5.0.0 in /usr/local/lib/python3.10/dist-packages (from dash->-r requirements.txt (line 7)) (5.13.1)\n",
            "Requirement already satisfied: dash-html-components==2.0.0 in /usr/local/lib/python3.10/dist-packages (from dash->-r requirements.txt (line 7)) (2.0.0)\n",
            "Requirement already satisfied: dash-core-components==2.0.0 in /usr/local/lib/python3.10/dist-packages (from dash->-r requirements.txt (line 7)) (2.0.0)\n",
            "Requirement already satisfied: dash-table==5.0.0 in /usr/local/lib/python3.10/dist-packages (from dash->-r requirements.txt (line 7)) (5.0.0)\n",
            "Requirement already satisfied: Werkzeug>=2.2.2 in /usr/local/lib/python3.10/dist-packages (from Flask>=1.0.4->dash->-r requirements.txt (line 7)) (2.3.0)\n",
            "Requirement already satisfied: Jinja2>=3.0 in /usr/local/lib/python3.10/dist-packages (from Flask>=1.0.4->dash->-r requirements.txt (line 7)) (3.1.2)\n",
            "Requirement already satisfied: itsdangerous>=2.0 in /usr/local/lib/python3.10/dist-packages (from Flask>=1.0.4->dash->-r requirements.txt (line 7)) (2.1.2)\n",
            "Requirement already satisfied: click>=8.0 in /usr/local/lib/python3.10/dist-packages (from Flask>=1.0.4->dash->-r requirements.txt (line 7)) (8.1.3)\n",
            "Requirement already satisfied: tenacity>=6.2.0 in /usr/local/lib/python3.10/dist-packages (from plotly>=5.0.0->dash->-r requirements.txt (line 7)) (8.2.2)\n",
            "Requirement already satisfied: six>=1.5 in /usr/local/lib/python3.10/dist-packages (from python-dateutil>=2.8.1->pandas->-r requirements.txt (line 2)) (1.16.0)\n",
            "Requirement already satisfied: MarkupSafe>=2.0 in /usr/local/lib/python3.10/dist-packages (from Jinja2>=3.0->Flask>=1.0.4->dash->-r requirements.txt (line 7)) (2.1.2)\n",
            "Looking in indexes: https://pypi.org/simple, https://us-python.pkg.dev/colab-wheels/public/simple/\n",
            "Requirement already satisfied: dash in /usr/local/lib/python3.10/dist-packages (2.9.3)\n",
            "Requirement already satisfied: Flask>=1.0.4 in /usr/local/lib/python3.10/dist-packages (from dash) (2.2.4)\n",
            "Requirement already satisfied: plotly>=5.0.0 in /usr/local/lib/python3.10/dist-packages (from dash) (5.13.1)\n",
            "Requirement already satisfied: dash-html-components==2.0.0 in /usr/local/lib/python3.10/dist-packages (from dash) (2.0.0)\n",
            "Requirement already satisfied: dash-core-components==2.0.0 in /usr/local/lib/python3.10/dist-packages (from dash) (2.0.0)\n",
            "Requirement already satisfied: dash-table==5.0.0 in /usr/local/lib/python3.10/dist-packages (from dash) (5.0.0)\n",
            "Requirement already satisfied: Werkzeug>=2.2.2 in /usr/local/lib/python3.10/dist-packages (from Flask>=1.0.4->dash) (2.3.0)\n",
            "Requirement already satisfied: Jinja2>=3.0 in /usr/local/lib/python3.10/dist-packages (from Flask>=1.0.4->dash) (3.1.2)\n",
            "Requirement already satisfied: itsdangerous>=2.0 in /usr/local/lib/python3.10/dist-packages (from Flask>=1.0.4->dash) (2.1.2)\n",
            "Requirement already satisfied: click>=8.0 in /usr/local/lib/python3.10/dist-packages (from Flask>=1.0.4->dash) (8.1.3)\n",
            "Requirement already satisfied: tenacity>=6.2.0 in /usr/local/lib/python3.10/dist-packages (from plotly>=5.0.0->dash) (8.2.2)\n",
            "Requirement already satisfied: MarkupSafe>=2.0 in /usr/local/lib/python3.10/dist-packages (from Jinja2>=3.0->Flask>=1.0.4->dash) (2.1.2)\n",
            "Looking in indexes: https://pypi.org/simple, https://us-python.pkg.dev/colab-wheels/public/simple/\n",
            "Requirement already satisfied: jupyter_dash in /usr/local/lib/python3.10/dist-packages (0.4.2)\n",
            "Requirement already satisfied: dash in /usr/local/lib/python3.10/dist-packages (from jupyter_dash) (2.9.3)\n",
            "Requirement already satisfied: requests in /usr/local/lib/python3.10/dist-packages (from jupyter_dash) (2.27.1)\n",
            "Requirement already satisfied: flask in /usr/local/lib/python3.10/dist-packages (from jupyter_dash) (2.2.4)\n",
            "Requirement already satisfied: retrying in /usr/local/lib/python3.10/dist-packages (from jupyter_dash) (1.3.4)\n",
            "Requirement already satisfied: ipython in /usr/local/lib/python3.10/dist-packages (from jupyter_dash) (7.34.0)\n",
            "Requirement already satisfied: ipykernel in /usr/local/lib/python3.10/dist-packages (from jupyter_dash) (5.5.6)\n",
            "Requirement already satisfied: ansi2html in /usr/local/lib/python3.10/dist-packages (from jupyter_dash) (1.8.0)\n",
            "Requirement already satisfied: nest-asyncio in /usr/local/lib/python3.10/dist-packages (from jupyter_dash) (1.5.6)\n",
            "Requirement already satisfied: plotly>=5.0.0 in /usr/local/lib/python3.10/dist-packages (from dash->jupyter_dash) (5.13.1)\n",
            "Requirement already satisfied: dash-html-components==2.0.0 in /usr/local/lib/python3.10/dist-packages (from dash->jupyter_dash) (2.0.0)\n",
            "Requirement already satisfied: dash-core-components==2.0.0 in /usr/local/lib/python3.10/dist-packages (from dash->jupyter_dash) (2.0.0)\n",
            "Requirement already satisfied: dash-table==5.0.0 in /usr/local/lib/python3.10/dist-packages (from dash->jupyter_dash) (5.0.0)\n",
            "Requirement already satisfied: Werkzeug>=2.2.2 in /usr/local/lib/python3.10/dist-packages (from flask->jupyter_dash) (2.3.0)\n",
            "Requirement already satisfied: Jinja2>=3.0 in /usr/local/lib/python3.10/dist-packages (from flask->jupyter_dash) (3.1.2)\n",
            "Requirement already satisfied: itsdangerous>=2.0 in /usr/local/lib/python3.10/dist-packages (from flask->jupyter_dash) (2.1.2)\n",
            "Requirement already satisfied: click>=8.0 in /usr/local/lib/python3.10/dist-packages (from flask->jupyter_dash) (8.1.3)\n",
            "Requirement already satisfied: ipython-genutils in /usr/local/lib/python3.10/dist-packages (from ipykernel->jupyter_dash) (0.2.0)\n",
            "Requirement already satisfied: traitlets>=4.1.0 in /usr/local/lib/python3.10/dist-packages (from ipykernel->jupyter_dash) (5.7.1)\n",
            "Requirement already satisfied: jupyter-client in /usr/local/lib/python3.10/dist-packages (from ipykernel->jupyter_dash) (6.1.12)\n",
            "Requirement already satisfied: tornado>=4.2 in /usr/local/lib/python3.10/dist-packages (from ipykernel->jupyter_dash) (6.3.1)\n",
            "Requirement already satisfied: setuptools>=18.5 in /usr/local/lib/python3.10/dist-packages (from ipython->jupyter_dash) (67.7.2)\n",
            "Requirement already satisfied: jedi>=0.16 in /usr/local/lib/python3.10/dist-packages (from ipython->jupyter_dash) (0.18.2)\n",
            "Requirement already satisfied: decorator in /usr/local/lib/python3.10/dist-packages (from ipython->jupyter_dash) (4.4.2)\n",
            "Requirement already satisfied: pickleshare in /usr/local/lib/python3.10/dist-packages (from ipython->jupyter_dash) (0.7.5)\n",
            "Requirement already satisfied: prompt-toolkit!=3.0.0,!=3.0.1,<3.1.0,>=2.0.0 in /usr/local/lib/python3.10/dist-packages (from ipython->jupyter_dash) (3.0.38)\n",
            "Requirement already satisfied: pygments in /usr/local/lib/python3.10/dist-packages (from ipython->jupyter_dash) (2.14.0)\n",
            "Requirement already satisfied: backcall in /usr/local/lib/python3.10/dist-packages (from ipython->jupyter_dash) (0.2.0)\n",
            "Requirement already satisfied: matplotlib-inline in /usr/local/lib/python3.10/dist-packages (from ipython->jupyter_dash) (0.1.6)\n",
            "Requirement already satisfied: pexpect>4.3 in /usr/local/lib/python3.10/dist-packages (from ipython->jupyter_dash) (4.8.0)\n",
            "Requirement already satisfied: urllib3<1.27,>=1.21.1 in /usr/local/lib/python3.10/dist-packages (from requests->jupyter_dash) (1.26.15)\n",
            "Requirement already satisfied: certifi>=2017.4.17 in /usr/local/lib/python3.10/dist-packages (from requests->jupyter_dash) (2022.12.7)\n",
            "Requirement already satisfied: charset-normalizer~=2.0.0 in /usr/local/lib/python3.10/dist-packages (from requests->jupyter_dash) (2.0.12)\n",
            "Requirement already satisfied: idna<4,>=2.5 in /usr/local/lib/python3.10/dist-packages (from requests->jupyter_dash) (3.4)\n",
            "Requirement already satisfied: six>=1.7.0 in /usr/local/lib/python3.10/dist-packages (from retrying->jupyter_dash) (1.16.0)\n",
            "Requirement already satisfied: parso<0.9.0,>=0.8.0 in /usr/local/lib/python3.10/dist-packages (from jedi>=0.16->ipython->jupyter_dash) (0.8.3)\n",
            "Requirement already satisfied: MarkupSafe>=2.0 in /usr/local/lib/python3.10/dist-packages (from Jinja2>=3.0->flask->jupyter_dash) (2.1.2)\n",
            "Requirement already satisfied: ptyprocess>=0.5 in /usr/local/lib/python3.10/dist-packages (from pexpect>4.3->ipython->jupyter_dash) (0.7.0)\n",
            "Requirement already satisfied: tenacity>=6.2.0 in /usr/local/lib/python3.10/dist-packages (from plotly>=5.0.0->dash->jupyter_dash) (8.2.2)\n",
            "Requirement already satisfied: wcwidth in /usr/local/lib/python3.10/dist-packages (from prompt-toolkit!=3.0.0,!=3.0.1,<3.1.0,>=2.0.0->ipython->jupyter_dash) (0.2.6)\n",
            "Requirement already satisfied: jupyter-core>=4.6.0 in /usr/local/lib/python3.10/dist-packages (from jupyter-client->ipykernel->jupyter_dash) (5.3.0)\n",
            "Requirement already satisfied: pyzmq>=13 in /usr/local/lib/python3.10/dist-packages (from jupyter-client->ipykernel->jupyter_dash) (23.2.1)\n",
            "Requirement already satisfied: python-dateutil>=2.1 in /usr/local/lib/python3.10/dist-packages (from jupyter-client->ipykernel->jupyter_dash) (2.8.2)\n",
            "Requirement already satisfied: platformdirs>=2.5 in /usr/local/lib/python3.10/dist-packages (from jupyter-core>=4.6.0->jupyter-client->ipykernel->jupyter_dash) (3.3.0)\n",
            "Looking in indexes: https://pypi.org/simple, https://us-python.pkg.dev/colab-wheels/public/simple/\n",
            "Requirement already satisfied: dash_bootstrap_components in /usr/local/lib/python3.10/dist-packages (1.4.1)\n",
            "Requirement already satisfied: dash>=2.0.0 in /usr/local/lib/python3.10/dist-packages (from dash_bootstrap_components) (2.9.3)\n",
            "Requirement already satisfied: Flask>=1.0.4 in /usr/local/lib/python3.10/dist-packages (from dash>=2.0.0->dash_bootstrap_components) (2.2.4)\n",
            "Requirement already satisfied: plotly>=5.0.0 in /usr/local/lib/python3.10/dist-packages (from dash>=2.0.0->dash_bootstrap_components) (5.13.1)\n",
            "Requirement already satisfied: dash-html-components==2.0.0 in /usr/local/lib/python3.10/dist-packages (from dash>=2.0.0->dash_bootstrap_components) (2.0.0)\n",
            "Requirement already satisfied: dash-core-components==2.0.0 in /usr/local/lib/python3.10/dist-packages (from dash>=2.0.0->dash_bootstrap_components) (2.0.0)\n",
            "Requirement already satisfied: dash-table==5.0.0 in /usr/local/lib/python3.10/dist-packages (from dash>=2.0.0->dash_bootstrap_components) (5.0.0)\n",
            "Requirement already satisfied: Werkzeug>=2.2.2 in /usr/local/lib/python3.10/dist-packages (from Flask>=1.0.4->dash>=2.0.0->dash_bootstrap_components) (2.3.0)\n",
            "Requirement already satisfied: Jinja2>=3.0 in /usr/local/lib/python3.10/dist-packages (from Flask>=1.0.4->dash>=2.0.0->dash_bootstrap_components) (3.1.2)\n",
            "Requirement already satisfied: itsdangerous>=2.0 in /usr/local/lib/python3.10/dist-packages (from Flask>=1.0.4->dash>=2.0.0->dash_bootstrap_components) (2.1.2)\n",
            "Requirement already satisfied: click>=8.0 in /usr/local/lib/python3.10/dist-packages (from Flask>=1.0.4->dash>=2.0.0->dash_bootstrap_components) (8.1.3)\n",
            "Requirement already satisfied: tenacity>=6.2.0 in /usr/local/lib/python3.10/dist-packages (from plotly>=5.0.0->dash>=2.0.0->dash_bootstrap_components) (8.2.2)\n",
            "Requirement already satisfied: MarkupSafe>=2.0 in /usr/local/lib/python3.10/dist-packages (from Jinja2>=3.0->Flask>=1.0.4->dash>=2.0.0->dash_bootstrap_components) (2.1.2)\n",
            "Looking in indexes: https://pypi.org/simple, https://us-python.pkg.dev/colab-wheels/public/simple/\n",
            "Requirement already satisfied: ngrok in /usr/local/lib/python3.10/dist-packages (0.7.0)\n"
          ]
        }
      ],
      "source": [
        "!pip install -r requirements.txt\n",
        "!pip install dash\n",
        "!pip install jupyter_dash\n",
        "!pip install dash_bootstrap_components\n",
        "!pip install ngrok\n"
      ]
    },
    {
      "attachments": {},
      "cell_type": "markdown",
      "metadata": {
        "id": "4bQMeQ9MRBkL"
      },
      "source": [
        "## Scrap Data from etherscan\n",
        "same code as in the file scrap_data.py"
      ]
    },
    {
      "cell_type": "code",
      "execution_count": 68,
      "metadata": {
        "colab": {
          "base_uri": "https://localhost:8080/"
        },
        "id": "LlNhhHBIRBkL",
        "outputId": "9eb14995-5b88-4932-eeb2-a58926b6d551"
      },
      "outputs": [],
      "source": [
        "import requests\n",
        "import time\n",
        "import pandas as pd\n",
        "import json\n",
        "import os\n",
        "\n",
        "# Etherscan API URL\n",
        "url = \"https://api.etherscan.io/api\"\n",
        "\n",
        "# Your Etherscan API Key\n",
        "api_key = \"VVJFE7IG5WSK8P2UJIJN5MST5UBQEZYVYW\"\n",
        "\n",
        "\n",
        "# Load the JSON file into a dictionary\n",
        "with open(\"ressources/dict_tokens_addr.json\", \"r\") as file:\n",
        "    dict_addresses = json.load(file)\n",
        "\n",
        "def get_coin_data(tokenSymbol, contractAddr, n):\n",
        "\n",
        "    # Get the latest block number\n",
        "    params = {\n",
        "        \"module\": \"proxy\",\n",
        "        \"action\": \"eth_blockNumber\",\n",
        "        \"apikey\": api_key\n",
        "    }\n",
        "    response = requests.get(url, params=params)\n",
        "    latest_block = int(response.json()[\"result\"], 16)\n",
        "\n",
        "    # Initialize an empty DataFrame to store the transactions\n",
        "    df_transactions = pd.DataFrame()\n",
        "\n",
        "    # Define the number of transactions to retrieve per API call\n",
        "    transactions_per_call = 10_000\n",
        "\n",
        "    # Iterate 'n' times to retrieve 'n' sets of transactions\n",
        "    for i in range(n):\n",
        "        # Calculate the start and end blocks for each API call\n",
        "        start_block = latest_block - (n-i) * transactions_per_call\n",
        "        end_block = latest_block - (n-1-i) * transactions_per_call\n",
        "        # print((n-1-i) * transactions_per_call)\n",
        "        # print(transactions_per_call)\n",
        "        # print(\"latest_block\",latest_block)\n",
        "        # print(\"start_block\",start_block)\n",
        "        # print(\"end_block\",end_block)\n",
        "        # print()\n",
        "        # Make the API request\n",
        "        params = {\n",
        "            \"module\": \"account\",\n",
        "            \"action\": \"tokentx\",\n",
        "            \"contractaddress\": contractAddr,\n",
        "            \"startblock\": start_block,\n",
        "            \"endblock\": end_block,\n",
        "            \"sort\": \"asc\",\n",
        "            \"apikey\": api_key\n",
        "        }\n",
        "        response = requests.get(url, params=params)\n",
        "\n",
        "        # Get the transactions data\n",
        "        transactions = response.json()[\"result\"]\n",
        "\n",
        "        # Append the transactions to the DataFrame\n",
        "        df_transactions = pd.concat([df_transactions, pd.DataFrame(transactions)])\n",
        "\n",
        "        # Add a delay to avoid hitting the API rate limit\n",
        "        time.sleep(1)\n",
        "\n",
        "    df_transactions['timeStamp'] = pd.to_datetime(df_transactions['timeStamp'].astype(int), unit='s')\n",
        "    df_transactions['value'] = df_transactions['value'].astype(float) / 1e18\n",
        "    return df_transactions\n",
        "\n"
      ]
    },
    {
      "cell_type": "code",
      "execution_count": 126,
      "metadata": {},
      "outputs": [
        {
          "name": "stdout",
          "output_type": "stream",
          "text": [
            "File: transactions_APE.csv, Completion: True\n",
            "shape of existing file  (8217, 17)\n",
            "shape of latest downloaded df_transactions before merging (6664, 19)\n",
            "shape of latest df_transactions after merging and without duplicates (8219, 17)\n",
            "Number of new transactions registered 2\n"
          ]
        }
      ],
      "source": [
        "  # check if folder output exists\n",
        "if os.path.exists(\"output\"):\n",
        "    # for each csv we should add new columns\n",
        "    for file in os.listdir(\"output\"):\n",
        "        print(f\"File: {file}, Completion: True\")\n",
        "        # load file\n",
        "        df_temp = pd.read_csv(\"output/\"+file,sep=\";\")\n",
        "        print(\"shape of existing file \",df_temp.shape)\n",
        "        # sort descendenly by block number\n",
        "        df_temp = df_temp.sort_values(\"blockNumber\", ascending=False)\n",
        "        # get start block for new api call which is last time last block\n",
        "        start_block = df_temp[\"blockNumber\"].iloc[0]\n",
        "        # Get the latest block number\n",
        "        params = {\n",
        "            \"module\": \"proxy\",\n",
        "            \"action\": \"eth_blockNumber\",\n",
        "            \"apikey\": api_key\n",
        "        }\n",
        "        # api call\n",
        "        response = requests.get(url, params=params)\n",
        "        # convert to int\n",
        "        latest_block = int(response.json()[\"result\"], 16)\n",
        "        # determine number of loops\n",
        "        n_loop_to_concat = ((latest_block-start_block)//10000) + 1\n",
        "        df_transactions = get_coin_data(df_temp[\"tokenSymbol\"].unique(), df_temp[\"contractAddress\"].unique(), n_loop_to_concat)\n",
        "        #print(\"shape of latest downloaded df_transactions before merging\", df_transactions.shape)\n",
        "        # Append the transactions to the DataFrame\n",
        "        df_latest = pd.concat([df_transactions, df_temp]).drop([\"confirmations\",\"input\"],axis=1)\n",
        "        df_latest_no_dup = df_latest.drop_duplicates(subset=\"hash\")\n",
        "        print(\"shape of latest df_transactions after merging and without duplicates\", df_latest_no_dup.shape)\n",
        "        print(\"Number of new transactions registered\", df_latest_no_dup.shape[0]-df_temp.shape[0])\n",
        "        print()\n",
        "        df_latest_no_dup.loc[:,\"blockNumber\"] = df_latest_no_dup[\"blockNumber\"].astype(int)\n",
        "        #print(df_latest)\n",
        "        df_latest_no_dup = df_latest_no_dup.sort_values(by = \"blockNumber\")\n",
        "        df_latest_no_dup.to_csv(\"output/\"+file, sep=\";\", index=False)\n",
        "        break\n",
        "else:\n",
        "    # UPDATE THE DATA\n",
        "    # Create output folder\n",
        "    os.makedirs(\"output\")\n",
        "    # Define the number of blocks to retrieve transactions from\n",
        "    n_blocks = 20000\n",
        "    n_loop = n_blocks // 10_000\n",
        "    for tokenSymbol, contractAddr in dict_addresses.items():\n",
        "        print(f\"Key: {tokenSymbol}, Value: {contractAddr}\")\n",
        "        df_transactions = get_coin_data(tokenSymbol, contractAddr, n_loop)\n",
        "        # Save transactions to a CSV file\n",
        "        df_transactions = df_transactions.drop([\"confirmations\",\"input\"],axis=1)\n",
        "        df_transactions_no_dup = df_transactions.drop_duplicates(subset=\"hash\")\n",
        "        df_transactions_no_dup.to_csv(f\"output/transactions_{tokenSymbol}.csv\", sep=\";\", index=False)\n",
        "        print(f\"All transactions saved to transactions_{tokenSymbol}_.csv\")\n",
        "        print(\"shape of created transaction dataframe\",df_transactions_no_dup.shape)\n",
        "        print()\n",
        "        break"
      ]
    },
    {
      "cell_type": "code",
      "execution_count": 121,
      "metadata": {
        "id": "PVaHUqKgRBkM"
      },
      "outputs": [
        {
          "name": "stdout",
          "output_type": "stream",
          "text": [
            "(8213, 17)\n"
          ]
        }
      ],
      "source": [
        "df_temp = pd.read_csv(\"output/transactions_APE.csv\",sep=\";\")\n",
        "print(df_temp.shape)\n",
        "#df_temp.drop_duplicates(subset=['confirmations'])\n"
      ]
    },
    {
      "attachments": {},
      "cell_type": "markdown",
      "metadata": {
        "id": "tBNE2tUnRBkN"
      },
      "source": [
        "## WebApp on jupyter"
      ]
    },
    {
      "cell_type": "code",
      "execution_count": 124,
      "metadata": {
        "colab": {
          "base_uri": "https://localhost:8080/",
          "height": 742
        },
        "id": "d6qFeLpoRBkN",
        "outputId": "c8f6fd51-6282-4415-c6ca-23c3d3478019"
      },
      "outputs": [
        {
          "name": "stderr",
          "output_type": "stream",
          "text": [
            "/home/mohcine/mambaforge/envs/ml/lib/python3.10/site-packages/dash/dash.py:538: UserWarning:\n",
            "\n",
            "JupyterDash is deprecated, use Dash instead.\n",
            "See https://dash.plotly.com/dash-in-jupyter for more details.\n",
            "\n"
          ]
        },
        {
          "data": {
            "text/html": [
              "\n",
              "        <iframe\n",
              "            width=\"100%\"\n",
              "            height=\"650\"\n",
              "            src=\"http://127.0.0.1:8050/\"\n",
              "            frameborder=\"0\"\n",
              "            allowfullscreen\n",
              "            \n",
              "        ></iframe>\n",
              "        "
            ],
            "text/plain": [
              "<IPython.lib.display.IFrame at 0x7faf26eb6c20>"
            ]
          },
          "metadata": {},
          "output_type": "display_data"
        },
        {
          "data": {
            "text/html": [
              "\n",
              "        <iframe\n",
              "            width=\"100%\"\n",
              "            height=\"650\"\n",
              "            src=\"http://127.0.0.1:8050/\"\n",
              "            frameborder=\"0\"\n",
              "            allowfullscreen\n",
              "            \n",
              "        ></iframe>\n",
              "        "
            ],
            "text/plain": [
              "<IPython.lib.display.IFrame at 0x7faf26eb60b0>"
            ]
          },
          "metadata": {},
          "output_type": "display_data"
        }
      ],
      "source": [
        "import os\n",
        "import pandas as pd\n",
        "from jupyter_dash import JupyterDash\n",
        "from dash import dcc\n",
        "from dash import html\n",
        "import dash_bootstrap_components as dbc\n",
        "from dash.dependencies import Input, Output\n",
        "import plotly.graph_objs as go\n",
        "\n",
        "# Load the data from the CSV files\n",
        "# Note: You need to replace 'output' with the actual path to your CSV files\n",
        "dataframes = []\n",
        "for filename in os.listdir('output'):\n",
        "    if filename.endswith('.csv'):\n",
        "        df = pd.read_csv(os.path.join('output', filename), sep=';')\n",
        "        dataframes.append(df)\n",
        "df = pd.concat(dataframes)\n",
        "\n",
        "# Create the Dash app\n",
        "app = JupyterDash(__name__, external_stylesheets=[dbc.themes.BOOTSTRAP])\n",
        "\n",
        "# Define the app layout\n",
        "app.layout = dbc.Container([\n",
        "    dbc.Row([\n",
        "        dbc.Col([\n",
        "            html.H1('Token Analysis'),\n",
        "            dcc.Dropdown(\n",
        "                id='token-dropdown',\n",
        "                options=[{'label': i, 'value': i} for i in df['tokenSymbol'].unique()],\n",
        "                value='MANA'\n",
        "            ),\n",
        "            # Add more filters here\n",
        "        ], width=5),\n",
        "        dbc.Col([\n",
        "            dcc.Graph(id='token-graph')\n",
        "        ], width=7)\n",
        "    ])\n",
        "])\n",
        "\n",
        "# Define the callback to update the graph\n",
        "@app.callback(\n",
        "    Output('token-graph', 'figure'),\n",
        "    [Input('token-dropdown', 'value')]\n",
        ")\n",
        "def update_graph(selected_token):\n",
        "    filtered_df = df[df['tokenSymbol'] == selected_token]\n",
        "    figure = go.Figure(\n",
        "        data=[\n",
        "            go.Scatter(\n",
        "                x=filtered_df['timeStamp'],\n",
        "                y=filtered_df['value'],\n",
        "                mode='lines',\n",
        "                name='Value over time'\n",
        "            )\n",
        "        ],\n",
        "        layout=go.Layout(\n",
        "            title='Token Value Over Time',\n",
        "            yaxis=dict(\n",
        "                title='Value ('+selected_token+')',  # Change this to 'Value (USD)' if the values are in USD\n",
        "            ),\n",
        "            showlegend=True,\n",
        "            legend=go.layout.Legend(\n",
        "                x=0,\n",
        "                y=1.0\n",
        "            ),\n",
        "            margin=go.layout.Margin(l=40, r=0, t=40, b=30)\n",
        "        )\n",
        "    )\n",
        "    return figure\n",
        "\n",
        "# Run app and display result inline in the notebook\n",
        "app.run_server(mode='inline')\n"
      ]
    },
    {
      "cell_type": "code",
      "execution_count": null,
      "metadata": {
        "id": "xvUIEpzFRBkN"
      },
      "outputs": [],
      "source": []
    },
    {
      "cell_type": "code",
      "execution_count": null,
      "metadata": {
        "id": "-uuJ2799RBkN"
      },
      "outputs": [],
      "source": []
    },
    {
      "cell_type": "code",
      "execution_count": null,
      "metadata": {
        "id": "QkVkHqAQRBkN"
      },
      "outputs": [],
      "source": []
    }
  ],
  "metadata": {
    "colab": {
      "provenance": []
    },
    "kernelspec": {
      "display_name": "blockchain",
      "language": "python",
      "name": "python3"
    },
    "language_info": {
      "codemirror_mode": {
        "name": "ipython",
        "version": 3
      },
      "file_extension": ".py",
      "mimetype": "text/x-python",
      "name": "python",
      "nbconvert_exporter": "python",
      "pygments_lexer": "ipython3",
      "version": "3.10.12"
    },
    "orig_nbformat": 4
  },
  "nbformat": 4,
  "nbformat_minor": 0
}
